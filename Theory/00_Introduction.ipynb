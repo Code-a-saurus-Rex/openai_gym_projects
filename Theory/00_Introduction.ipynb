{
 "cells": [
  {
   "cell_type": "code",
   "execution_count": 348,
   "id": "13bf1e9e-3f92-41e8-a499-8b2054ea592d",
   "metadata": {
    "tags": []
   },
   "outputs": [],
   "source": [
    "import numpy as np\n",
    "from matplotlib import pyplot as plt"
   ]
  },
  {
   "cell_type": "markdown",
   "id": "75073301-dbf9-4f9d-b786-faab9f6c1ec2",
   "metadata": {
    "tags": []
   },
   "source": [
    "# 01 Reinforcement learning\n",
    "\n",
    "## Basic expressions - Multi armed bandit problem\n",
    "\n",
    "- Value fn\n",
    "\n",
    "At any given time the value of taking a particular action is denoted:  \n",
    "$ q_\\star (a) = E[R_t |A_t = a]$\n",
    "\n",
    "it is the expectation of the `R`ewards up to time `t` given the action at time `t` is `a`\n",
    "\n",
    "If we knew the best actions we could simply chose to use the best machine at each interaction At.  \n",
    "But we need to learn the value of these actions. The approximate value fn is denoted:  \n",
    "$Q_t (a) \\approx \\frac{\\sum\\limits_{1}^{t}R_i|A_i=a)}{\\sum\\limits_{1}^{t}A_i=a} $\n",
    "\n",
    "the average reward for all cases where we chose action a\n",
    "\n",
    "\n"
   ]
  },
  {
   "cell_type": "markdown",
   "id": "defae999-4190-4d4e-b99d-8b76c5bac055",
   "metadata": {},
   "source": [
    "- Explore vs Exploit\n",
    "\n",
    "If we select the action with the highest estimate of rewards (sample average approach) we call this _Greedy selection_, i.e.\n",
    "\n",
    "$ A_t = \\underset{a}{\\operatorname{argmax}} Q_t (a)$ \n",
    "\n",
    "However, if we always select the best action with our current knowledge we migh miss machine we havent tried enough or ones that have big rewards with low odds etc.\n",
    "\n",
    "To truly find the best strategy it is important to explore the various machines and gain more knowledge around the expected returns for each machine so that we can exploit the best strategy with more confidence"
   ]
  },
  {
   "cell_type": "markdown",
   "id": "ded1d9d2-87ac-4f1b-a285-7d4d6dacce81",
   "metadata": {},
   "source": [
    "- $\\epsilon$ - greedy\n",
    "\n",
    "The epsilon greedy strategy is the simplest form of balancing exploration and exploitation.  \n",
    "With epsilon probability we will simply take a random action to see what happens, otherwise we will exploit the best known strategy:  \n",
    "\n",
    "epsilon-greedy   \n",
    "{  \n",
    "1-$\\epsilon$ : A_t= $ A_t = \\underset{a}{\\operatorname{argmax}} Q_t (a)$   \n",
    "$\\epsilon$ : random    \n",
    "}    "
   ]
  },
  {
   "cell_type": "markdown",
   "id": "7bf36127-7f4f-4afd-9946-2fa57aabdc17",
   "metadata": {},
   "source": [
    "## $\\epsilon$ - greedy Multi Armed Bandits"
   ]
  },
  {
   "cell_type": "markdown",
   "id": "9be9f188-be2e-4a37-b682-1da116a79bed",
   "metadata": {},
   "source": [
    "In this example I create k bandits that each yield rewards distributed random normally with mean = k"
   ]
  },
  {
   "cell_type": "code",
   "execution_count": 332,
   "id": "b5011fde-6501-496f-b2c0-973b35dbdbaa",
   "metadata": {
    "tags": []
   },
   "outputs": [],
   "source": [
    "from numpy import random\n",
    "\n",
    "def bandit(a,b):\n",
    "    def inner(a=a,b=b):\n",
    "        return np.random.normal(loc=a,scale=b)\n",
    "    return inner"
   ]
  },
  {
   "cell_type": "markdown",
   "id": "567b1bab-e052-4599-a4dd-de77c20d63cb",
   "metadata": {},
   "source": [
    "Here we manually generate some bandits with normal distributions around different means with std of 1"
   ]
  },
  {
   "cell_type": "code",
   "execution_count": 347,
   "id": "22b0ccda-7e8b-402a-b349-830fc8a4c2b0",
   "metadata": {
    "tags": []
   },
   "outputs": [
    {
     "data": {
      "text/plain": [
       "10"
      ]
     },
     "execution_count": 347,
     "metadata": {},
     "output_type": "execute_result"
    }
   ],
   "source": [
    "# k=5\n",
    "# means = [np.random.random_sample() for x in range(k)]\n",
    "# bandits = [bandit(a) for a in means]\n",
    "\n",
    "bandits = [bandit(0,1),bandit(-0.8,1),bandit(1.5,1),bandit(0.3,1),bandit(1.3,1),bandit(-1.3,1),bandit(-0.2,1),bandit(-1,1),bandit(1,1),bandit(-0.5,1)]\n",
    "k=len(bandits)\n",
    "k"
   ]
  },
  {
   "cell_type": "markdown",
   "id": "0ee28b16-65fd-422f-99b1-6f448465694a",
   "metadata": {},
   "source": [
    "Interacting with each machine produces rewards"
   ]
  },
  {
   "cell_type": "code",
   "execution_count": 335,
   "id": "d4fbf075-e619-416e-9f71-91731d6352ed",
   "metadata": {
    "tags": []
   },
   "outputs": [
    {
     "name": "stdout",
     "output_type": "stream",
     "text": [
      "generating 3 rewards for bandit 0\n",
      "[0.3654822340368374, -0.944450118098081, -0.2817387537752711]\n",
      "generating 3 rewards for bandit 1\n",
      "[-0.22924844690130064, -1.1409467301023506, -0.572649033904412]\n",
      "generating 3 rewards for bandit 2\n",
      "[1.5968192685347484, 3.2814292773260205, 1.156585404706843]\n",
      "generating 3 rewards for bandit 3\n",
      "[0.6107316647740422, -0.4027831007544897, 0.31312985436243207]\n",
      "generating 3 rewards for bandit 4\n",
      "[2.2797210043746916, 1.1950836424287892, 0.8943498868245164]\n",
      "generating 3 rewards for bandit 5\n",
      "[-1.322041410948741, -2.1749172642964147, -0.7656465599130878]\n",
      "generating 3 rewards for bandit 6\n",
      "[-0.17915813584677712, -2.705236707921982, -1.0613532962539183]\n",
      "generating 3 rewards for bandit 7\n",
      "[0.29932541988015515, -0.8289687357807021, 0.6756173493997544]\n",
      "generating 3 rewards for bandit 8\n",
      "[0.3407113545581626, 1.5382481229092408, 1.1966769509266861]\n",
      "generating 3 rewards for bandit 9\n",
      "[1.373614022826703, -0.589248296520877, -0.3627055429441]\n"
     ]
    }
   ],
   "source": [
    "tries=3\n",
    "\n",
    "for i,bandit in enumerate(bandits):\n",
    "    results=[]\n",
    "    print(f'generating {tries} rewards for bandit {i}')\n",
    "    for x in range(tries): \n",
    "        results.append(bandit())\n",
    "    print(results)\n",
    "        "
   ]
  },
  {
   "cell_type": "markdown",
   "id": "713c5083-8bcc-44ea-a6b5-9b076de78f6a",
   "metadata": {},
   "source": [
    "Now for an $\\epsilon$ - greedy solution"
   ]
  },
  {
   "cell_type": "code",
   "execution_count": 342,
   "id": "20b43c9f-4c58-4f4b-a24d-4a6edc335170",
   "metadata": {
    "tags": []
   },
   "outputs": [],
   "source": [
    "import random\n",
    "time = range(1,500)\n",
    "epsilon = 0.1\n",
    "\n",
    "#initialize a dict for storing returns\n",
    "R = {}\n",
    "for y in range(k):\n",
    "    R[y] = []\n",
    "    \n",
    "#initialize list for returns\n",
    "R_all = []\n",
    "\n",
    "#function to retun greedy action\n",
    "def greedy_action(R):\n",
    "    '''\n",
    "    return the best action given the average historical returns\n",
    "    '''\n",
    "    \n",
    "    ave_R = [np.mean(band_vals) for band_vals in R.values()]\n",
    "    return np.argmax(ave_R)\n",
    "\n",
    "#Store all returns for time played\n",
    "\n",
    "for t in time:\n",
    "    #Explore or exploit?\n",
    "    \n",
    "    coin = np.random.uniform(0,1)\n",
    "    if coin > epsilon:\n",
    "        exploit = True\n",
    "    \n",
    "    #Play and learn\n",
    "    if exploit:\n",
    "            #we must try all machines at least once to exploit\n",
    "        if t < k:\n",
    "            action = t - 1\n",
    "        else:\n",
    "            action = greedy_action(R) \n",
    "    else:\n",
    "        action = np.random.choice(range(k))\n",
    "        \n",
    "\n",
    "        \n",
    "        \n",
    "    Rt = bandits[action]()\n",
    "    R[action].append(Rt)\n",
    "    R_all.append(Rt)\n",
    "    \n"
   ]
  },
  {
   "cell_type": "markdown",
   "id": "4ef574eb-18d1-477f-a4b2-c5159031374a",
   "metadata": {},
   "source": [
    "and finally after playing we can evaluate the best action:"
   ]
  },
  {
   "cell_type": "code",
   "execution_count": 343,
   "id": "1943cd54-a67b-49d3-8f52-7b1f947bd91a",
   "metadata": {
    "tags": []
   },
   "outputs": [
    {
     "data": {
      "text/plain": [
       "2"
      ]
     },
     "execution_count": 343,
     "metadata": {},
     "output_type": "execute_result"
    }
   ],
   "source": [
    "greedy_action(R)"
   ]
  },
  {
   "cell_type": "code",
   "execution_count": 344,
   "id": "9672b8ae-50a0-48b3-92d4-26457d7269eb",
   "metadata": {
    "tags": []
   },
   "outputs": [],
   "source": [
    "ave_R = [np.mean(band_vals) for band_vals in R.values()]"
   ]
  },
  {
   "cell_type": "code",
   "execution_count": 345,
   "id": "ef7a8cdc-2ec3-4c8f-88e4-160948a7b799",
   "metadata": {},
   "outputs": [
    {
     "data": {
      "text/plain": [
       "[-0.5592995490100701,\n",
       " -0.24643264126208497,\n",
       " 1.5924273419339927,\n",
       " 0.45280386429285246,\n",
       " 1.1696219236895729,\n",
       " -2.374705871418575,\n",
       " -0.6470024948815896,\n",
       " 0.7158543961873038,\n",
       " 1.1816942007960325,\n",
       " -0.9133790171513704]"
      ]
     },
     "execution_count": 345,
     "metadata": {},
     "output_type": "execute_result"
    }
   ],
   "source": [
    "ave_R"
   ]
  },
  {
   "cell_type": "markdown",
   "id": "6af58921-a0a6-4216-9e2f-da3b48a7b52f",
   "metadata": {},
   "source": [
    "Visually:"
   ]
  },
  {
   "cell_type": "code",
   "execution_count": 346,
   "id": "4473f92f-cea5-4a6a-bc60-449282045167",
   "metadata": {
    "tags": []
   },
   "outputs": [
    {
     "data": {
      "text/plain": [
       "[<matplotlib.lines.Line2D at 0x7fde9b1fd730>]"
      ]
     },
     "execution_count": 346,
     "metadata": {},
     "output_type": "execute_result"
    },
    {
     "data": {
      "image/png": "[encoded data removed]",
      "text/plain": [
       "<Figure size 640x480 with 1 Axes>"
      ]
     },
     "metadata": {},
     "output_type": "display_data"
    }
   ],
   "source": [
    "from matplotlib import pyplot as plt\n",
    "\n",
    "plt.plot(time, R_all) "
   ]
  },
  {
   "cell_type": "markdown",
   "id": "255d3b07-c0e0-4631-bec3-3dd6784934ea",
   "metadata": {},
   "source": [
    "Now we will simulate this learning experience by creating 2000 such games and showing the average learning experience"
   ]
  },
  {
   "cell_type": "code",
   "execution_count": 387,
   "id": "a2d25aa0-bb7d-4348-bd86-db3acf88d2cc",
   "metadata": {
    "tags": []
   },
   "outputs": [],
   "source": [
    "def run_sim(game_len=500,n_bandits=10,epsilon = 0.1):\n",
    "    \n",
    "    time = range(1,game_len+1)\n",
    "    \n",
    "    #function to retun greedy action\n",
    "    def greedy_action(R):\n",
    "        '''\n",
    "        return the best action given the average historical returns\n",
    "        '''\n",
    "\n",
    "        ave_R = [np.mean(band_vals) for band_vals in R.values()]\n",
    "        return np.argmax(ave_R)\n",
    "    \n",
    "    def generate_mean(a=-1,b=1):\n",
    "        return (b-a) * np.random.random_sample() + a\n",
    "    \n",
    "    def bandit(a,b):\n",
    "        def inner(a=a,b=b):\n",
    "            return np.random.normal(loc=a,scale=b)\n",
    "        return inner\n",
    "    \n",
    "    bandits = [bandit(generate_mean(),1) for i in range(n_bandits)]\n",
    "    \n",
    "    R = {}\n",
    "    for y in range(k):\n",
    "        R[y] = []\n",
    "\n",
    "    #initialize list for returns\n",
    "    R_all = []\n",
    "    \n",
    "    exploit = False\n",
    "    for t in time:\n",
    "        #Explore or exploit?\n",
    "\n",
    "        coin = np.random.uniform(0,1)\n",
    "        if coin > epsilon:\n",
    "            exploit = True\n",
    "\n",
    "        #Play and learn\n",
    "        if exploit:\n",
    "                #we must try all machines at least once to exploit\n",
    "            if t < k:\n",
    "                action = t - 1\n",
    "            else:\n",
    "                action = greedy_action(R) \n",
    "        else:\n",
    "            action = np.random.choice(range(k))\n",
    "\n",
    "        Rt = bandits[action]()\n",
    "        R[action].append(Rt)\n",
    "        R_all.append(Rt)\n",
    "        \n",
    "    # plt.plot(time, R_all)\n",
    "        \n",
    "    return R, R_all\n",
    "    \n",
    "def bootstrap_sims(bootstraps=2000,game_len=500,n_bandits=10,epsilon = 0.1):\n",
    "    time = range(1,game_len+1)\n",
    "    sims = {i:[] for i in time}\n",
    "    \n",
    "    for s in range(bootstraps):\n",
    "        \n",
    "        R, R_all = run_sim()\n",
    "\n",
    "        for i,x in enumerate(R_all):\n",
    "            sims[i+1].append(x)\n",
    "        \n",
    "    R_average = [np.mean(x) for x in sims.values()] \n",
    "    plt.plot(time, R_average)\n",
    "    \n",
    "    return R_average, sims"
   ]
  },
  {
   "cell_type": "code",
   "execution_count": 388,
   "id": "5c79a724-e14e-47e3-876a-a72851fec9ce",
   "metadata": {
    "tags": []
   },
   "outputs": [
    {
     "data": {
      "image/png": "[encoded data removed]",
      "text/plain": [
       "<Figure size 640x480 with 1 Axes>"
      ]
     },
     "metadata": {},
     "output_type": "display_data"
    }
   ],
   "source": [
    "r, S = bootstrap_sims(bootstraps=2000)"
   ]
  },
  {
   "cell_type": "code",
   "execution_count": null,
   "id": "721959ea-9670-49eb-ac26-a1c6d0a5e412",
   "metadata": {},
   "outputs": [],
   "source": []
  }
 ],
 "metadata": {
  "kernelspec": {
   "display_name": "gym",
   "language": "python",
   "name": "gym"
  },
  "language_info": {
   "codemirror_mode": {
    "name": "ipython",
    "version": 3
   },
   "file_extension": ".py",
   "mimetype": "text/x-python",
   "name": "python",
   "nbconvert_exporter": "python",
   "pygments_lexer": "ipython3",
   "version": "3.8.10"
  }
 },
 "nbformat": 4,
 "nbformat_minor": 5
}
