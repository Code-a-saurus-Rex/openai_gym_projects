{
 "cells": [
  {
   "cell_type": "markdown",
   "id": "62d27a71-eaf0-4f95-a5bb-4bf2b4e1c0b8",
   "metadata": {},
   "source": [
    "# Dynamic Programming\n"
   ]
  },
  {
   "cell_type": "code",
   "execution_count": null,
   "id": "4eb27cfa-8c4e-42ee-b363-a568565ae55b",
   "metadata": {},
   "outputs": [],
   "source": []
  }
 ],
 "metadata": {
  "kernelspec": {
   "display_name": "gym",
   "language": "python",
   "name": "gym"
  },
  "language_info": {
   "codemirror_mode": {
    "name": "ipython",
    "version": 3
   },
   "file_extension": ".py",
   "mimetype": "text/x-python",
   "name": "python",
   "nbconvert_exporter": "python",
   "pygments_lexer": "ipython3",
   "version": "3.8.10"
  }
 },
 "nbformat": 4,
 "nbformat_minor": 5
}
